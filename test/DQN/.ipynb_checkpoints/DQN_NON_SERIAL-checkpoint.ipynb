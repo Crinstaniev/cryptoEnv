{
 "cells": [
  {
   "cell_type": "code",
   "execution_count": 1,
   "id": "cf0256a5",
   "metadata": {},
   "outputs": [],
   "source": [
    "import torch\n",
    "import torch.nn as nn\n",
    "import torch.nn.functional as F\n",
    "import torch.optim as optim\n",
    "import numpy as np\n",
    "\n",
    "from collections import deque\n",
    "from tqdm import tqdm"
   ]
  },
  {
   "cell_type": "code",
   "execution_count": 2,
   "id": "8e000640",
   "metadata": {},
   "outputs": [],
   "source": [
    "class DQN(nn.Module):\n",
    "    def __init__(self, lr=3e-4, input_dims=None, \n",
    "                 fc1_dims=256, fc2_dims=256, \n",
    "                 n_actions=3):\n",
    "        super(DQN, self).__init__()\n",
    "        \n",
    "        self.lr = lr\n",
    "        self.input_dims = input_dims\n",
    "        self.fc1_dims = fc1_dims\n",
    "        self.fc2_dims = fc2_dims\n",
    "        self.n_actions = n_actions\n",
    "        \n",
    "        self.net = nn.Sequential(\n",
    "            nn.Linear(self.input_dims, self.fc1_dims), nn.ReLU(),\n",
    "            nn.Linear(self.fc1_dims, self.fc2_dims), nn.ReLU(),\n",
    "            nn.Linear(self.fc2_dims, self.n_actions)\n",
    "        )\n",
    "        \n",
    "        self.optimizer = optim.Adam(params=self.parameters(), lr=lr)\n",
    "        self.loss = nn.MSELoss()\n",
    "        self.device = torch.device('cuda' if torch.cuda.is_available() else 'cpu')\n",
    "        self.to(self.device)\n",
    "        \n",
    "    def forward(self, observation):\n",
    "        return self.net(observation)\n",
    "    "
   ]
  },
  {
   "cell_type": "code",
   "execution_count": 3,
   "id": "ba2f8a6c",
   "metadata": {},
   "outputs": [],
   "source": [
    "class ReplayMemory(object):\n",
    "    def __init__(self, max_mem_size, input_dims):\n",
    "        self.mem_cntr = 0\n",
    "        self.mem_size = max_mem_size\n",
    "        self.input_dims = input_dims\n",
    "        \n",
    "        self.state_memory = np.zeros((max_mem_size, input_dims), \n",
    "                                     dtype=np.float32)\n",
    "        self.new_state_memory = np.zeros((max_mem_size, input_dims), \n",
    "                                         dtype=np.float32)\n",
    "        self.action_memory = np.zeros(max_mem_size, \n",
    "                                      dtype=np.int32)\n",
    "        self.reward_memory = np.zeros(max_mem_size, \n",
    "                                      dtype=np.float32)\n",
    "        self.terminal_memory = np.zeros(max_mem_size, \n",
    "                                        dtype=np.int32)\n",
    "        \n",
    "    def store_transition(self, state, action, reward, \n",
    "                         state_, terminal):\n",
    "        idx = self.mem_cntr % self.mem_size\n",
    "        self.state_memory[idx] = state\n",
    "        self.new_state_memory[idx] = state_\n",
    "        self.reward_memory[idx] = reward\n",
    "        self.action_memory[idx] = action\n",
    "        self.terminal_memory[idx] = terminal\n",
    "        \n",
    "        self.mem_cntr += 1\n",
    "        "
   ]
  },
  {
   "cell_type": "code",
   "execution_count": 4,
   "id": "0042f241",
   "metadata": {},
   "outputs": [],
   "source": [
    "class Agent(object):\n",
    "    def __init__(self, gamma, epsilon, lr, input_dims, batch_size,\n",
    "                n_actions, max_mem_size=100000,\n",
    "                eps_end=0.05, eps_dec=5e-4):\n",
    "        self.gamma = gamma\n",
    "        self.epsilon = epsilon\n",
    "        self.lr = lr\n",
    "        self.input_dims = input_dims\n",
    "        self.batch_size = batch_size\n",
    "        self.n_actions = n_actions\n",
    "        self.mem_size = max_mem_size\n",
    "        self.eps_min = eps_end\n",
    "        self.eps_dec = eps_dec\n",
    "        \n",
    "        self.iter_cntr = 0\n",
    "        \n",
    "        self.action_space = [i for i in range(self.n_actions)]\n",
    "        \n",
    "        self.Q_eval = DQN(lr=lr, n_actions=n_actions,\n",
    "                         input_dims=input_dims,\n",
    "                         fc1_dims=256, fc2_dims=256)\n",
    "        self.memory = ReplayMemory(max_mem_size=max_mem_size,\n",
    "                                  input_dims=input_dims)\n",
    "        self.store_transition = self.memory.store_transition\n",
    "        \n",
    "    def take_action(self, observation):\n",
    "        # using epsilon_greedy strategy\n",
    "        if np.random.random() > self.epsilon:\n",
    "            # exploit\n",
    "            state = torch.tensor(np.array([observation], dtype=np.float32)).to(self.Q_eval.device)\n",
    "            \n",
    "            actions = self.Q_eval.forward(state)\n",
    "            action = torch.argmax(actions).item()\n",
    "        else:\n",
    "            # explore\n",
    "            action = np.random.choice(self.action_space)\n",
    "        \n",
    "        return action\n",
    "    \n",
    "    def train(self):\n",
    "        # make sure there is enough experience in memo buffer\n",
    "        if self.memory.mem_cntr < self.batch_size:\n",
    "            return\n",
    "        \n",
    "        self.Q_eval.optimizer.zero_grad()\n",
    "        \n",
    "        max_mem = min(self.memory.mem_size, self.memory.mem_cntr)\n",
    "        \n",
    "        batch = np.random.choice(max_mem, self.batch_size, replace=False)\n",
    "        batch_idx = np.arange(self.batch_size, dtype=np.int32)\n",
    "        \n",
    "        state_batch = torch.tensor(self.memory.state_memory[batch]\n",
    "                                  ).to(self.Q_eval.device)\n",
    "        new_state_batch = torch.tensor(self.memory.new_state_memory[batch]\n",
    "                                      ).to(self.Q_eval.device)        \n",
    "        action_batch = self.memory.action_memory[batch]     \n",
    "        reward_batch = torch.tensor(self.memory.reward_memory[batch]\n",
    "                                   ).to(self.Q_eval.device)        \n",
    "        terminal_batch = torch.tensor(self.memory.terminal_memory[batch]\n",
    "                                     ).long().to(self.Q_eval.device)  \n",
    "        \n",
    "        q_eval = self.Q_eval.forward(state_batch)[batch_idx, action_batch]\n",
    "        q_next = self.Q_eval.forward(new_state_batch)\n",
    "        q_next[terminal_batch] = 0\n",
    "        \n",
    "        q_target = reward_batch + self.gamma * torch.max(q_next, dim=1)[0]\n",
    "        \n",
    "        loss = self.Q_eval.loss(q_target, q_eval).to(self.Q_eval.device)\n",
    "        loss.backward()\n",
    "        self.Q_eval.optimizer.step()\n",
    "        \n",
    "        self.iter_cntr += 1\n",
    "        # epsilon decay\n",
    "        self.epsilon = self.epsilon - self.eps_dec \\\n",
    "            if self.epsilon > self.eps_min else self.eps_min"
   ]
  },
  {
   "cell_type": "code",
   "execution_count": 5,
   "id": "d66292db",
   "metadata": {},
   "outputs": [],
   "source": [
    "import sys\n",
    "import os\n",
    "\n",
    "sys.path.append('../../')"
   ]
  },
  {
   "cell_type": "code",
   "execution_count": 6,
   "id": "3347d04d",
   "metadata": {},
   "outputs": [],
   "source": [
    "from crypto_env.dataloader.ethloader import ETHLoader\n",
    "from crypto_env.algorithm import Algorithm\n",
    "from crypto_env import CryptoEnv, Recorder, Visualizer"
   ]
  },
  {
   "cell_type": "code",
   "execution_count": 7,
   "id": "9c382a9f",
   "metadata": {},
   "outputs": [],
   "source": [
    "class ENV(CryptoEnv):\n",
    "    def get_reward(self):\n",
    "        is_done = self._is_done\n",
    "        \n",
    "        if not is_done:\n",
    "            return 0\n",
    "        else:\n",
    "            # process done. give reward acoording to ROI\n",
    "            roi = self.recorder.get_roi()\n",
    "            return roi * 10"
   ]
  },
  {
   "cell_type": "code",
   "execution_count": 8,
   "id": "9494640a",
   "metadata": {},
   "outputs": [],
   "source": [
    "torch.manual_seed(0)\n",
    "\n",
    "features = ['PriceUSD', 'AdrActCnt', 'AdrBal1in100KCnt']\n",
    "loader = ETHLoader(base_dir=os.getcwd(), features=features,\n",
    "                  start_idx=100, end_idx=200, dropna=True, download=True)\n",
    "recorder = Recorder(price_list=loader.get_feature('PriceUSD'))\n",
    "transaction_fee = [0.01] * len(loader)\n",
    "loader.load_transaction_fee(transaction_fee, 'percentage')"
   ]
  },
  {
   "cell_type": "code",
   "execution_count": 9,
   "id": "de687326",
   "metadata": {},
   "outputs": [],
   "source": [
    "env = ENV(max_sell=10, max_buy=10, min_sell=0, min_buy=0, \n",
    "    dataloader=loader, recorder=recorder).reset()\n",
    "\n",
    "agent = Agent(gamma=0.99, epsilon=1.0, batch_size=32, n_actions=3, \n",
    "             eps_end=0.01, input_dims=3, lr=3e-4)\n",
    "\n",
    "HISTORY_DEQUE_SIZE = 2\n",
    "n_runs = 500"
   ]
  },
  {
   "cell_type": "code",
   "execution_count": 10,
   "id": "c698e5dc",
   "metadata": {},
   "outputs": [
    {
     "name": "stdout",
     "output_type": "stream",
     "text": [
      "DQN(\n",
      "  (net): Sequential(\n",
      "    (0): Linear(in_features=3, out_features=256, bias=True)\n",
      "    (1): ReLU()\n",
      "    (2): Linear(in_features=256, out_features=256, bias=True)\n",
      "    (3): ReLU()\n",
      "    (4): Linear(in_features=256, out_features=3, bias=True)\n",
      "  )\n",
      "  (loss): MSELoss()\n",
      ")\n"
     ]
    }
   ],
   "source": [
    "print(agent.Q_eval)"
   ]
  },
  {
   "cell_type": "markdown",
   "id": "5aa6ac4f",
   "metadata": {},
   "source": [
    "Action References:\n",
    "\n",
    "| Action Index | Description         |\n",
    "|--------------|---------------------|\n",
    "| 0            | Buy 1 Ether         |\n",
    "| 1            | Sell 1 Ether        |\n",
    "| 2            | Hold and do nothing |"
   ]
  },
  {
   "cell_type": "code",
   "execution_count": 11,
   "id": "cbae3491",
   "metadata": {
    "scrolled": false
   },
   "outputs": [
    {
     "name": "stderr",
     "output_type": "stream",
     "text": [
      "100%|████████████████████████████████████████| 500/500 [00:03<00:00, 153.55it/s]\n"
     ]
    }
   ],
   "source": [
    "rewards = []\n",
    "\n",
    "# for i in tqdm(range(n_runs)):\n",
    "for i in tqdm(range(n_runs)):\n",
    "    env.reset()\n",
    "    observation = env.first_observation()['features']\n",
    "    done = False\n",
    "    score = 0\n",
    "    \n",
    "    while not done:\n",
    "        \n",
    "        action = agent.take_action(observation)\n",
    "        observation_, reward, done, info = None, None, None, None \n",
    "        if action == 0:\n",
    "            observation_, reward, done, info = env.buy(1)\n",
    "        if action == 1:\n",
    "            observation_, reward, done, info = env.sell(1)\n",
    "        if action == 2:\n",
    "            observation_, reward, done, info = env.hold()\n",
    "        \n",
    "        observation_ = observation_['features']\n",
    "        \n",
    "        agent.store_transition(observation, action,\n",
    "                            reward, observation_, done)\n",
    "        agent.train()\n",
    "    \n",
    "    rewards.append(env.recorder.get_roi())"
   ]
  },
  {
   "cell_type": "code",
   "execution_count": 12,
   "id": "0197fbe8",
   "metadata": {},
   "outputs": [],
   "source": [
    "import matplotlib.pyplot as plt\n",
    "\n",
    "MA_WINDOW = 50"
   ]
  },
  {
   "cell_type": "code",
   "execution_count": 13,
   "id": "c4d1a49a",
   "metadata": {},
   "outputs": [],
   "source": [
    "# calculate moving average\n",
    "rewards = np.array(rewards, dtype=np.float32)\n",
    "rewards_ma = []\n",
    "for i in range(len(rewards) - MA_WINDOW):\n",
    "    base_idx = i - MA_WINDOW\n",
    "    base_idx = base_idx if base_idx > 0 else 0\n",
    "    ceil_idx = i + 1\n",
    "    rewards_ma.append(rewards[base_idx:ceil_idx].mean())"
   ]
  },
  {
   "cell_type": "code",
   "execution_count": 16,
   "id": "491dfd68",
   "metadata": {},
   "outputs": [
    {
     "data": {
      "image/png": "[encoded data removed]",
      "text/plain": [
       "<Figure size 600x400 with 1 Axes>"
      ]
     },
     "metadata": {
      "needs_background": "light"
     },
     "output_type": "display_data"
    }
   ],
   "source": [
    "plt.figure(dpi=100)\n",
    "\n",
    "plt.plot(rewards[-100:-1], label='reward')\n",
    "plt.plot(rewards_ma[-100:-1], label='moving average (window=50)')\n",
    "\n",
    "plt.grid()\n",
    "plt.legend()\n",
    "\n",
    "plt.show()"
   ]
  },
  {
   "cell_type": "code",
   "execution_count": null,
   "id": "5fd5dc08",
   "metadata": {},
   "outputs": [],
   "source": []
  }
 ],
 "metadata": {
  "kernelspec": {
   "display_name": "Python 3 (ipykernel)",
   "language": "python",
   "name": "python3"
  },
  "language_info": {
   "codemirror_mode": {
    "name": "ipython",
    "version": 3
   },
   "file_extension": ".py",
   "mimetype": "text/x-python",
   "name": "python",
   "nbconvert_exporter": "python",
   "pygments_lexer": "ipython3",
   "version": "3.9.7"
  }
 },
 "nbformat": 4,
 "nbformat_minor": 5
}
