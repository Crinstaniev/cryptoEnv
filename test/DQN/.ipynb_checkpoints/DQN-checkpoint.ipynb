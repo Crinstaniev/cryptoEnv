{
 "cells": [
  {
   "cell_type": "code",
   "execution_count": 1,
   "id": "d4b2c8a6",
   "metadata": {},
   "outputs": [],
   "source": [
    "import torch\n",
    "import torch.nn as nn\n",
    "import torch.nn.functional as F\n",
    "import torch.optim as optim\n",
    "import numpy as np\n",
    "\n",
    "from collections import deque\n",
    "from tqdm import tqdm\n",
    "\n",
    "torch.manual_seed(42)\n",
    "np.random.seed(42)"
   ]
  },
  {
   "cell_type": "code",
   "execution_count": 2,
   "id": "0f7fec68",
   "metadata": {},
   "outputs": [],
   "source": [
    "class DQN(nn.Module):\n",
    "    def __init__(self, lr=3e-4, input_dims=None, \n",
    "                 fc1_dims=256, fc2_dims=256, \n",
    "                 n_actions=3):\n",
    "        super(DQN, self).__init__()\n",
    "        \n",
    "        self.lr = lr\n",
    "        self.input_dims = input_dims\n",
    "        self.fc1_dims = fc1_dims\n",
    "        self.fc2_dims = fc2_dims\n",
    "        self.n_actions = n_actions\n",
    "        \n",
    "        self.net = nn.Sequential(\n",
    "            nn.Linear(self.input_dims, self.fc1_dims), nn.ReLU(),\n",
    "            nn.Linear(self.fc1_dims, self.fc2_dims), nn.ReLU(),\n",
    "            nn.Linear(self.fc2_dims, self.n_actions)\n",
    "        )\n",
    "        \n",
    "        self.optimizer = optim.Adam(params=self.parameters(), lr=lr)\n",
    "        self.loss = nn.MSELoss()\n",
    "        self.device = torch.device('cuda' if torch.cuda.is_available() else 'cpu')\n",
    "        self.to(self.device)\n",
    "        \n",
    "    def forward(self, observation):\n",
    "        return self.net(observation)\n",
    "    "
   ]
  },
  {
   "cell_type": "code",
   "execution_count": 3,
   "id": "f5198900",
   "metadata": {},
   "outputs": [],
   "source": [
    "class ReplayMemory(object):\n",
    "    def __init__(self, max_mem_size, input_dims):\n",
    "        self.mem_cntr = 0\n",
    "        self.mem_size = max_mem_size\n",
    "        self.input_dims = input_dims\n",
    "        \n",
    "        self.state_memory = np.zeros((max_mem_size, input_dims), \n",
    "                                     dtype=np.float32)\n",
    "        self.new_state_memory = np.zeros((max_mem_size, input_dims), \n",
    "                                         dtype=np.float32)\n",
    "        self.action_memory = np.zeros(max_mem_size, \n",
    "                                      dtype=np.int32)\n",
    "        self.reward_memory = np.zeros(max_mem_size, \n",
    "                                      dtype=np.float32)\n",
    "        self.terminal_memory = np.zeros(max_mem_size, \n",
    "                                        dtype=np.int32)\n",
    "        \n",
    "    def store_transition(self, state, action, reward, \n",
    "                         state_, terminal):\n",
    "        idx = self.mem_cntr % self.mem_size\n",
    "        self.state_memory[idx] = state\n",
    "        self.new_state_memory[idx] = state_\n",
    "        self.reward_memory[idx] = reward\n",
    "        self.action_memory[idx] = action\n",
    "        self.terminal_memory[idx] = terminal\n",
    "        \n",
    "        self.mem_cntr += 1\n",
    "        "
   ]
  },
  {
   "cell_type": "code",
   "execution_count": 4,
   "id": "49125472",
   "metadata": {},
   "outputs": [],
   "source": [
    "class Agent(object):\n",
    "    def __init__(self, gamma, epsilon, lr, input_dims, batch_size,\n",
    "                n_actions, max_mem_size=100000,\n",
    "                eps_end=0.05, eps_dec=5e-4):\n",
    "        self.gamma = gamma\n",
    "        self.epsilon = epsilon\n",
    "        self.lr = lr\n",
    "        self.input_dims = input_dims\n",
    "        self.batch_size = batch_size\n",
    "        self.n_actions = n_actions\n",
    "        self.mem_size = max_mem_size\n",
    "        self.eps_min = eps_end\n",
    "        self.eps_dec = eps_dec\n",
    "        \n",
    "        self.iter_cntr = 0\n",
    "        \n",
    "        self.action_space = [i for i in range(self.n_actions)]\n",
    "        \n",
    "        self.Q_eval = DQN(lr=lr, n_actions=n_actions,\n",
    "                         input_dims=input_dims,\n",
    "                         fc1_dims=128, fc2_dims=128)\n",
    "        self.memory = ReplayMemory(max_mem_size=max_mem_size,\n",
    "                                  input_dims=input_dims)\n",
    "        self.store_transition = self.memory.store_transition\n",
    "        \n",
    "    def take_action(self, observation):\n",
    "        # using epsilon_greedy strategy\n",
    "        if np.random.random() > self.epsilon:\n",
    "            # exploit\n",
    "            state = torch.tensor(np.array([observation], dtype=np.float32)).to(self.Q_eval.device)\n",
    "            \n",
    "            actions = self.Q_eval.forward(state)\n",
    "            action = torch.argmax(actions).item()\n",
    "        else:\n",
    "            # explore\n",
    "            action = np.random.choice(self.action_space)\n",
    "        \n",
    "        return action\n",
    "    \n",
    "    def train(self):\n",
    "        # make sure there is enough experience in memo buffer\n",
    "        if self.memory.mem_cntr < self.batch_size:\n",
    "            return\n",
    "        \n",
    "        self.Q_eval.optimizer.zero_grad()\n",
    "        \n",
    "        max_mem = min(self.memory.mem_size, self.memory.mem_cntr)\n",
    "        \n",
    "        batch = np.random.choice(max_mem, self.batch_size, replace=False)\n",
    "        batch_idx = np.arange(self.batch_size, dtype=np.int32)\n",
    "        \n",
    "        state_batch = torch.tensor(self.memory.state_memory[batch]\n",
    "                                  ).to(self.Q_eval.device)\n",
    "        new_state_batch = torch.tensor(self.memory.new_state_memory[batch]\n",
    "                                      ).to(self.Q_eval.device)        \n",
    "        action_batch = self.memory.action_memory[batch]     \n",
    "        reward_batch = torch.tensor(self.memory.reward_memory[batch]\n",
    "                                   ).to(self.Q_eval.device)        \n",
    "        terminal_batch = torch.tensor(self.memory.terminal_memory[batch]\n",
    "                                     ).long().to(self.Q_eval.device)  \n",
    "        \n",
    "        q_eval = self.Q_eval.forward(state_batch)[batch_idx, action_batch]\n",
    "        q_next = self.Q_eval.forward(new_state_batch)\n",
    "        q_next[terminal_batch] = 0\n",
    "        \n",
    "        q_target = reward_batch + self.gamma * torch.max(q_next, dim=1)[0]\n",
    "        \n",
    "        loss = self.Q_eval.loss(q_target, q_eval).to(self.Q_eval.device)\n",
    "        loss.backward()\n",
    "        self.Q_eval.optimizer.step()\n",
    "        \n",
    "        self.iter_cntr += 1\n",
    "        # epsilon decay\n",
    "        self.epsilon = self.epsilon - self.eps_dec \\\n",
    "            if self.epsilon > self.eps_min else self.eps_min"
   ]
  },
  {
   "cell_type": "code",
   "execution_count": 5,
   "id": "dccb8538",
   "metadata": {},
   "outputs": [],
   "source": [
    "import sys\n",
    "import os\n",
    "\n",
    "sys.path.append('../../')"
   ]
  },
  {
   "cell_type": "code",
   "execution_count": 6,
   "id": "7b906e17",
   "metadata": {},
   "outputs": [],
   "source": [
    "from crypto_env.dataloader.ethloader import ETHLoader\n",
    "from crypto_env.algorithm import Algorithm\n",
    "from crypto_env import CryptoEnv, Recorder, Visualizer"
   ]
  },
  {
   "cell_type": "code",
   "execution_count": 7,
   "id": "7a137b15",
   "metadata": {},
   "outputs": [],
   "source": [
    "class ENV(CryptoEnv):\n",
    "    def get_reward(self):\n",
    "        is_done = self._is_done\n",
    "        \n",
    "        if not is_done:\n",
    "            return 0\n",
    "        else:\n",
    "            # process done. give reward acoording to ROI\n",
    "            roi = self.recorder.get_roi()\n",
    "            if roi > 0:\n",
    "                return np.exp(roi) * 10\n",
    "            else:\n",
    "                return -10"
   ]
  },
  {
   "cell_type": "code",
   "execution_count": null,
   "id": "12c5e654",
   "metadata": {},
   "outputs": [],
   "source": [
    "features = ['PriceUSD', 'AdrActCnt', 'AdrBal1in100KCnt']\n",
    "# features = ['PriceUSD']\n",
    "loader = ETHLoader(base_dir=os.getcwd(), features=features,\n",
    "                  start_idx=100, end_idx=200, dropna=True, download=True)\n",
    "recorder = Recorder(price_list=loader.get_feature('PriceUSD'))\n",
    "transaction_fee = [0.01] * len(loader)\n",
    "loader.load_transaction_fee(transaction_fee, 'percentage')"
   ]
  },
  {
   "cell_type": "code",
   "execution_count": null,
   "id": "a9e2a71a",
   "metadata": {},
   "outputs": [],
   "source": [
    "HISTORY_DEQUE_SIZE = 5\n",
    "n_runs = 500\n",
    "\n",
    "env = ENV(max_sell=10, max_buy=10, min_sell=0, min_buy=0, \n",
    "    dataloader=loader, recorder=recorder).reset()\n",
    "\n",
    "agent = Agent(gamma=0.99, epsilon=1.0, batch_size=32, n_actions=3, \n",
    "             eps_end=0.01, input_dims=len(features) * HISTORY_DEQUE_SIZE, lr=3e-4)"
   ]
  },
  {
   "cell_type": "code",
   "execution_count": null,
   "id": "9d9aebeb",
   "metadata": {},
   "outputs": [],
   "source": [
    "print(agent.Q_eval)"
   ]
  },
  {
   "cell_type": "markdown",
   "id": "25f52f28",
   "metadata": {},
   "source": [
    "Action References:\n",
    "\n",
    "| Action Index | Description         |\n",
    "|--------------|---------------------|\n",
    "| 0            | Buy 1 Ether         |\n",
    "| 1            | Sell 1 Ether        |\n",
    "| 2            | Hold and do nothing |"
   ]
  },
  {
   "cell_type": "code",
   "execution_count": null,
   "id": "aa082cb2",
   "metadata": {
    "scrolled": false
   },
   "outputs": [],
   "source": [
    "rewards = []\n",
    "\n",
    "for i in tqdm(range(n_runs)):\n",
    "    env = env.reset()\n",
    "    observation = env.first_observation()['features']\n",
    "    done = False\n",
    "    score = 0\n",
    "    \n",
    "    history_deque = deque([observation for _ in range(HISTORY_DEQUE_SIZE)], HISTORY_DEQUE_SIZE)\n",
    "    \n",
    "    while not done:\n",
    "        \n",
    "        observation_series = np.array(history_deque, dtype=np.float32).reshape(-1)\n",
    "        action = agent.take_action(observation_series)\n",
    "        observation_, reward, done, info = None, None, None, None \n",
    "        \n",
    "        if action == 0:\n",
    "            observation_, reward, done, info = env.buy(1)\n",
    "        if action == 1:\n",
    "            observation_, reward, done, info = env.sell(1)\n",
    "        if action == 2:\n",
    "            observation_, reward, done, info = env.hold()\n",
    "        \n",
    "        observation_ = observation_['features']\n",
    "        \n",
    "        # refresh history deque\n",
    "        history_deque.append(observation_)\n",
    "        observation_series_ = np.array(history_deque, dtype=np.float32).reshape(-1)\n",
    "        \n",
    "        agent.store_transition(observation_series, action,\n",
    "                                reward, observation_series_, done)\n",
    "        agent.train()\n",
    "    \n",
    "    rewards.append(env.recorder.get_roi())"
   ]
  },
  {
   "cell_type": "code",
   "execution_count": null,
   "id": "80f3d458",
   "metadata": {},
   "outputs": [],
   "source": [
    "import matplotlib.pyplot as plt\n",
    "\n",
    "MA_WINDOW = 20"
   ]
  },
  {
   "cell_type": "code",
   "execution_count": null,
   "id": "effb8342",
   "metadata": {},
   "outputs": [],
   "source": [
    "# calculate moving average\n",
    "rewards = np.array(rewards, dtype=np.float32)\n",
    "rewards_ma = []\n",
    "for i in range(len(rewards)):\n",
    "    base_idx = i - MA_WINDOW\n",
    "    base_idx = base_idx if base_idx > 0 else 0\n",
    "    ceil_idx = i + 1\n",
    "    rewards_ma.append(rewards[base_idx:ceil_idx].mean())"
   ]
  },
  {
   "cell_type": "code",
   "execution_count": null,
   "id": "53f1236a",
   "metadata": {},
   "outputs": [],
   "source": [
    "import plotly.graph_objects as go\n",
    "from plotly.subplots import make_subplots"
   ]
  },
  {
   "cell_type": "code",
   "execution_count": null,
   "id": "e4e7c36d",
   "metadata": {},
   "outputs": [],
   "source": [
    "fig = make_subplots()\n",
    "fig.add_trace(\n",
    "    go.Scatter(\n",
    "        dict(\n",
    "            mode='lines',\n",
    "            name='ROI',\n",
    "            y=rewards,\n",
    "            line_color='blueviolet'\n",
    "        )\n",
    "    )\n",
    ")\n",
    "\n",
    "fig.add_trace(\n",
    "    go.Scatter(\n",
    "        dict(\n",
    "            mode='lines',\n",
    "            name='ROI Moving Average (window=20)',\n",
    "            y=rewards_ma,\n",
    "            line_color='orange'\n",
    "        )\n",
    "    )\n",
    ")\n",
    "\n",
    "fig.update_yaxes(title_text='ROI')\n",
    "fig.update_xaxes(title_text='Epoch')\n",
    "fig.update_layout(template='plotly_white')\n",
    "fig.update_layout(title_text='ROI & Epoch')"
   ]
  },
  {
   "cell_type": "code",
   "execution_count": null,
   "id": "a4e9ddfd",
   "metadata": {},
   "outputs": [],
   "source": [
    "visualizer = Visualizer(env=env)"
   ]
  },
  {
   "cell_type": "code",
   "execution_count": null,
   "id": "dccc3170",
   "metadata": {},
   "outputs": [],
   "source": [
    "visualizer.draw_portfolio()"
   ]
  },
  {
   "cell_type": "code",
   "execution_count": null,
   "id": "f8fa09a9",
   "metadata": {},
   "outputs": [],
   "source": [
    "visualizer.draw_signal()"
   ]
  },
  {
   "cell_type": "code",
   "execution_count": null,
   "id": "aae05812",
   "metadata": {},
   "outputs": [],
   "source": []
  }
 ],
 "metadata": {
  "kernelspec": {
   "display_name": "Python 3 (ipykernel)",
   "language": "python",
   "name": "python3"
  },
  "language_info": {
   "codemirror_mode": {
    "name": "ipython",
    "version": 3
   },
   "file_extension": ".py",
   "mimetype": "text/x-python",
   "name": "python",
   "nbconvert_exporter": "python",
   "pygments_lexer": "ipython3",
   "version": "3.9.7"
  }
 },
 "nbformat": 4,
 "nbformat_minor": 5
}
