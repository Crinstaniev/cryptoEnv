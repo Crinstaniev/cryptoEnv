{
    "cells": [
        {
            "cell_type": "code",
            "execution_count": 6,
            "source": [
                "import numpy as np\n",
                "import pandas as pd\n",
                "import gym \n",
                "import os "
            ],
            "outputs": [],
            "metadata": {}
        },
        {
            "cell_type": "code",
            "execution_count": 4,
            "source": [
                "from crypto_env.dataloader.ethloader import ETHLoader"
            ],
            "outputs": [],
            "metadata": {}
        },
        {
            "cell_type": "code",
            "execution_count": 5,
            "source": [
                "# test the eth loader \n",
                "loader = ETHLoader(base_dir=os.getcwd(), features=[])"
            ],
            "outputs": [
                {
                    "output_type": "error",
                    "ename": "TypeError",
                    "evalue": "__init__() missing 2 required positional arguments: 'base_dir' and 'features'",
                    "traceback": [
                        "\u001b[0;31m---------------------------------------------------------------------------\u001b[0m",
                        "\u001b[0;31mTypeError\u001b[0m                                 Traceback (most recent call last)",
                        "\u001b[0;32m/var/folders/hw/lgbr0hc15gzck683rvlyz9h00000gn/T/ipykernel_2773/492228903.py\u001b[0m in \u001b[0;36m<module>\u001b[0;34m\u001b[0m\n\u001b[1;32m      1\u001b[0m \u001b[0;31m# test the eth loader\u001b[0m\u001b[0;34m\u001b[0m\u001b[0;34m\u001b[0m\u001b[0m\n\u001b[0;32m----> 2\u001b[0;31m \u001b[0mloader\u001b[0m \u001b[0;34m=\u001b[0m \u001b[0mETHLoader\u001b[0m\u001b[0;34m(\u001b[0m\u001b[0;34m)\u001b[0m\u001b[0;34m\u001b[0m\u001b[0;34m\u001b[0m\u001b[0m\n\u001b[0m",
                        "\u001b[0;31mTypeError\u001b[0m: __init__() missing 2 required positional arguments: 'base_dir' and 'features'"
                    ]
                }
            ],
            "metadata": {}
        },
        {
            "cell_type": "code",
            "execution_count": null,
            "source": [],
            "outputs": [],
            "metadata": {}
        }
    ],
    "metadata": {
        "orig_nbformat": 4,
        "language_info": {
            "name": "python",
            "version": "3.9.7",
            "mimetype": "text/x-python",
            "codemirror_mode": {
                "name": "ipython",
                "version": 3
            },
            "pygments_lexer": "ipython3",
            "nbconvert_exporter": "python",
            "file_extension": ".py"
        },
        "kernelspec": {
            "name": "python3",
            "display_name": "Python 3.9.7 64-bit ('reinforcement': conda)"
        },
        "interpreter": {
            "hash": "268570d34673bff79c8ca90b2fd2f52878a0e7f444ff55b707c2f6a48895aaaf"
        }
    },
    "nbformat": 4,
    "nbformat_minor": 2
}